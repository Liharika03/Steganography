{
  "nbformat": 4,
  "nbformat_minor": 0,
  "metadata": {
    "colab": {
      "provenance": []
    },
    "kernelspec": {
      "name": "python3",
      "display_name": "Python 3"
    },
    "language_info": {
      "name": "python"
    }
  },
  "cells": [
    {
      "cell_type": "code",
      "execution_count": null,
      "metadata": {
        "colab": {
          "base_uri": "https://localhost:8080/"
        },
        "id": "FXeZN-rnAqs8",
        "outputId": "618c5833-7c70-403c-cf23-5d3283c00ed6"
      },
      "outputs": [
        {
          "output_type": "stream",
          "name": "stdout",
          "text": [
            "Requirement already satisfied: pillow in /usr/local/lib/python3.11/dist-packages (11.1.0)\n",
            "Collecting pycryptodome\n",
            "  Downloading pycryptodome-3.21.0-cp36-abi3-manylinux_2_17_x86_64.manylinux2014_x86_64.whl.metadata (3.4 kB)\n",
            "Downloading pycryptodome-3.21.0-cp36-abi3-manylinux_2_17_x86_64.manylinux2014_x86_64.whl (2.3 MB)\n",
            "\u001b[2K   \u001b[90m━━━━━━━━━━━━━━━━━━━━━━━━━━━━━━━━━━━━━━━━\u001b[0m \u001b[32m2.3/2.3 MB\u001b[0m \u001b[31m5.6 MB/s\u001b[0m eta \u001b[36m0:00:00\u001b[0m\n",
            "\u001b[?25hInstalling collected packages: pycryptodome\n",
            "Successfully installed pycryptodome-3.21.0\n"
          ]
        }
      ],
      "source": [
        "!pip install pillow pycryptodome\n",
        "\n"
      ]
    },
    {
      "cell_type": "code",
      "source": [
        "from PIL import Image\n",
        "import numpy as np\n",
        "from Crypto.Cipher import AES\n",
        "import os\n",
        "from google.colab import files\n",
        "\n"
      ],
      "metadata": {
        "id": "39uCUKoXA1QE"
      },
      "execution_count": null,
      "outputs": []
    },
    {
      "cell_type": "code",
      "source": [
        "\n",
        "\n",
        "def pad_message(message):\n",
        "    \"\"\"Pads the message to a multiple of 16 bytes (AES block size).\"\"\"\n",
        "    return message + (16 - len(message) % 16) * \" \"\n",
        "\n",
        "def encrypt_message(message, key):\n",
        "    \"\"\"Encrypts the message using AES and encodes it in Base64.\"\"\"\n",
        "    key = key.ljust(16)[:16]  # Ensure key is 16 bytes\n",
        "    cipher = AES.new(key.encode(), AES.MODE_ECB)\n",
        "    encrypted_bytes = cipher.encrypt(pad_message(message).encode())\n",
        "    return base64.b64encode(encrypted_bytes).decode()  # Convert to Base64\n",
        "\n",
        "def decrypt_message(encrypted_message, key):\n",
        "    \"\"\"Decrypts an AES-encrypted Base64 encoded message.\"\"\"\n",
        "    key = key.ljust(16)[:16]\n",
        "    cipher = AES.new(key.encode(), AES.MODE_ECB)\n",
        "    decrypted_bytes = cipher.decrypt(base64.b64decode(encrypted_message))\n",
        "    return decrypted_bytes.decode().strip()\n"
      ],
      "metadata": {
        "id": "gyNLVCicA1TS"
      },
      "execution_count": null,
      "outputs": []
    },
    {
      "cell_type": "code",
      "source": [
        "\n",
        "def embed_data(image_path, message, key, output_image):\n",
        "    \"\"\"Embeds an encrypted message into an image using LSB steganography.\"\"\"\n",
        "    img = Image.open(image_path)\n",
        "    img = img.convert(\"RGB\")\n",
        "    pixels = np.array(img)\n",
        "\n",
        "    # Encrypt the message & encode it in Base64\n",
        "    encrypted_message = encrypt_message(message, key)\n",
        "    binary_data = ''.join(format(ord(char), '08b') for char in encrypted_message) + '1111111111111110'  # End marker\n",
        "\n",
        "    data_index = 0\n",
        "    h, w, _ = pixels.shape\n",
        "    np.random.seed(42)  # Ensure reproducibility\n",
        "    pixel_indices = np.random.permutation(h * w)  # Shuffle pixels\n",
        "\n",
        "    for index in pixel_indices:\n",
        "        y, x = divmod(index, w)\n",
        "        r, g, b = pixels[y, x]\n",
        "\n",
        "        if data_index < len(binary_data):\n",
        "            r = (r & 0xFE) | int(binary_data[data_index])\n",
        "            data_index += 1\n",
        "        if data_index < len(binary_data):\n",
        "            g = (g & 0xFE) | int(binary_data[data_index])\n",
        "            data_index += 1\n",
        "        if data_index < len(binary_data):\n",
        "            b = (b & 0xFE) | int(binary_data[data_index])\n",
        "            data_index += 1\n",
        "\n",
        "        pixels[y, x] = [r, g, b]\n",
        "\n",
        "        if data_index >= len(binary_data):\n",
        "            break\n",
        "\n",
        "    stego_img = Image.fromarray(pixels)\n",
        "    stego_img.save(output_image)\n",
        "    print(f\"Data embedded successfully! Saved as {output_image}\")\n",
        "\n",
        "\n"
      ],
      "metadata": {
        "id": "oCpAcuJVA1WZ"
      },
      "execution_count": null,
      "outputs": []
    },
    {
      "cell_type": "code",
      "source": [
        "import base64\n",
        "from PIL import Image\n",
        "import numpy as np\n",
        "\n",
        "def extract_data(image_path, key):\n",
        "    \"\"\"Extracts and decrypts the hidden message from an image with strict Base64 validation.\"\"\"\n",
        "    img = Image.open(image_path)\n",
        "    img = img.convert(\"RGB\")\n",
        "    pixels = np.array(img)\n",
        "\n",
        "    binary_data = \"\"\n",
        "    h, w, _ = pixels.shape\n",
        "    np.random.seed(42)  # Ensure the same randomized pattern is used\n",
        "    pixel_indices = np.random.permutation(h * w)\n",
        "\n",
        "    for index in pixel_indices:\n",
        "        y, x = divmod(index, w)\n",
        "        r, g, b = pixels[y, x]\n",
        "\n",
        "        binary_data += str(r & 1)\n",
        "        binary_data += str(g & 1)\n",
        "        binary_data += str(b & 1)\n",
        "\n",
        "    # Convert binary to text\n",
        "    binary_data = [binary_data[i:i+8] for i in range(0, len(binary_data), 8)]\n",
        "    extracted_message = \"\"\n",
        "\n",
        "    for byte in binary_data:\n",
        "        if byte == '11111110':  # Stop at end marker\n",
        "            break\n",
        "        extracted_message += chr(int(byte, 2))\n",
        "\n",
        "    # 🔹 Strip unwanted characters (only keep Base64)\n",
        "    extracted_message = ''.join(c for c in extracted_message if c in \"ABCDEFGHIJKLMNOPQRSTUVWXYZabcdefghijklmnopqrstuvwxyz0123456789+/=\")\n",
        "\n",
        "    # 🔹 Ensure extracted text is valid Base64 before decryption\n",
        "    try:\n",
        "        # Validate Base64 string\n",
        "        base64.b64decode(extracted_message, validate=True)\n",
        "\n",
        "        # If valid, decrypt it\n",
        "        decrypted_message = decrypt_message(extracted_message, key)\n",
        "        return decrypted_message\n",
        "    except Exception as e:\n",
        "        return f\"Decryption Error: Invalid Base64 Extracted! {e}\"\n"
      ],
      "metadata": {
        "id": "KEF-KLYKA1Zr"
      },
      "execution_count": null,
      "outputs": []
    },
    {
      "cell_type": "code",
      "source": [
        "from google.colab import files\n",
        "uploaded = files.upload()\n",
        "image_filename = list(uploaded.keys())[0]\n"
      ],
      "metadata": {
        "colab": {
          "base_uri": "https://localhost:8080/",
          "height": 71
        },
        "id": "aCPilYO3A1cx",
        "outputId": "03066224-7578-4c40-b6db-e610bab1f94f"
      },
      "execution_count": null,
      "outputs": [
        {
          "output_type": "display_data",
          "data": {
            "text/plain": [
              "<IPython.core.display.HTML object>"
            ],
            "text/html": [
              "\n",
              "     <input type=\"file\" id=\"files-c7094fe4-40c6-4ea6-9748-b06682e3f551\" name=\"files[]\" multiple disabled\n",
              "        style=\"border:none\" />\n",
              "     <output id=\"result-c7094fe4-40c6-4ea6-9748-b06682e3f551\">\n",
              "      Upload widget is only available when the cell has been executed in the\n",
              "      current browser session. Please rerun this cell to enable.\n",
              "      </output>\n",
              "      <script>// Copyright 2017 Google LLC\n",
              "//\n",
              "// Licensed under the Apache License, Version 2.0 (the \"License\");\n",
              "// you may not use this file except in compliance with the License.\n",
              "// You may obtain a copy of the License at\n",
              "//\n",
              "//      http://www.apache.org/licenses/LICENSE-2.0\n",
              "//\n",
              "// Unless required by applicable law or agreed to in writing, software\n",
              "// distributed under the License is distributed on an \"AS IS\" BASIS,\n",
              "// WITHOUT WARRANTIES OR CONDITIONS OF ANY KIND, either express or implied.\n",
              "// See the License for the specific language governing permissions and\n",
              "// limitations under the License.\n",
              "\n",
              "/**\n",
              " * @fileoverview Helpers for google.colab Python module.\n",
              " */\n",
              "(function(scope) {\n",
              "function span(text, styleAttributes = {}) {\n",
              "  const element = document.createElement('span');\n",
              "  element.textContent = text;\n",
              "  for (const key of Object.keys(styleAttributes)) {\n",
              "    element.style[key] = styleAttributes[key];\n",
              "  }\n",
              "  return element;\n",
              "}\n",
              "\n",
              "// Max number of bytes which will be uploaded at a time.\n",
              "const MAX_PAYLOAD_SIZE = 100 * 1024;\n",
              "\n",
              "function _uploadFiles(inputId, outputId) {\n",
              "  const steps = uploadFilesStep(inputId, outputId);\n",
              "  const outputElement = document.getElementById(outputId);\n",
              "  // Cache steps on the outputElement to make it available for the next call\n",
              "  // to uploadFilesContinue from Python.\n",
              "  outputElement.steps = steps;\n",
              "\n",
              "  return _uploadFilesContinue(outputId);\n",
              "}\n",
              "\n",
              "// This is roughly an async generator (not supported in the browser yet),\n",
              "// where there are multiple asynchronous steps and the Python side is going\n",
              "// to poll for completion of each step.\n",
              "// This uses a Promise to block the python side on completion of each step,\n",
              "// then passes the result of the previous step as the input to the next step.\n",
              "function _uploadFilesContinue(outputId) {\n",
              "  const outputElement = document.getElementById(outputId);\n",
              "  const steps = outputElement.steps;\n",
              "\n",
              "  const next = steps.next(outputElement.lastPromiseValue);\n",
              "  return Promise.resolve(next.value.promise).then((value) => {\n",
              "    // Cache the last promise value to make it available to the next\n",
              "    // step of the generator.\n",
              "    outputElement.lastPromiseValue = value;\n",
              "    return next.value.response;\n",
              "  });\n",
              "}\n",
              "\n",
              "/**\n",
              " * Generator function which is called between each async step of the upload\n",
              " * process.\n",
              " * @param {string} inputId Element ID of the input file picker element.\n",
              " * @param {string} outputId Element ID of the output display.\n",
              " * @return {!Iterable<!Object>} Iterable of next steps.\n",
              " */\n",
              "function* uploadFilesStep(inputId, outputId) {\n",
              "  const inputElement = document.getElementById(inputId);\n",
              "  inputElement.disabled = false;\n",
              "\n",
              "  const outputElement = document.getElementById(outputId);\n",
              "  outputElement.innerHTML = '';\n",
              "\n",
              "  const pickedPromise = new Promise((resolve) => {\n",
              "    inputElement.addEventListener('change', (e) => {\n",
              "      resolve(e.target.files);\n",
              "    });\n",
              "  });\n",
              "\n",
              "  const cancel = document.createElement('button');\n",
              "  inputElement.parentElement.appendChild(cancel);\n",
              "  cancel.textContent = 'Cancel upload';\n",
              "  const cancelPromise = new Promise((resolve) => {\n",
              "    cancel.onclick = () => {\n",
              "      resolve(null);\n",
              "    };\n",
              "  });\n",
              "\n",
              "  // Wait for the user to pick the files.\n",
              "  const files = yield {\n",
              "    promise: Promise.race([pickedPromise, cancelPromise]),\n",
              "    response: {\n",
              "      action: 'starting',\n",
              "    }\n",
              "  };\n",
              "\n",
              "  cancel.remove();\n",
              "\n",
              "  // Disable the input element since further picks are not allowed.\n",
              "  inputElement.disabled = true;\n",
              "\n",
              "  if (!files) {\n",
              "    return {\n",
              "      response: {\n",
              "        action: 'complete',\n",
              "      }\n",
              "    };\n",
              "  }\n",
              "\n",
              "  for (const file of files) {\n",
              "    const li = document.createElement('li');\n",
              "    li.append(span(file.name, {fontWeight: 'bold'}));\n",
              "    li.append(span(\n",
              "        `(${file.type || 'n/a'}) - ${file.size} bytes, ` +\n",
              "        `last modified: ${\n",
              "            file.lastModifiedDate ? file.lastModifiedDate.toLocaleDateString() :\n",
              "                                    'n/a'} - `));\n",
              "    const percent = span('0% done');\n",
              "    li.appendChild(percent);\n",
              "\n",
              "    outputElement.appendChild(li);\n",
              "\n",
              "    const fileDataPromise = new Promise((resolve) => {\n",
              "      const reader = new FileReader();\n",
              "      reader.onload = (e) => {\n",
              "        resolve(e.target.result);\n",
              "      };\n",
              "      reader.readAsArrayBuffer(file);\n",
              "    });\n",
              "    // Wait for the data to be ready.\n",
              "    let fileData = yield {\n",
              "      promise: fileDataPromise,\n",
              "      response: {\n",
              "        action: 'continue',\n",
              "      }\n",
              "    };\n",
              "\n",
              "    // Use a chunked sending to avoid message size limits. See b/62115660.\n",
              "    let position = 0;\n",
              "    do {\n",
              "      const length = Math.min(fileData.byteLength - position, MAX_PAYLOAD_SIZE);\n",
              "      const chunk = new Uint8Array(fileData, position, length);\n",
              "      position += length;\n",
              "\n",
              "      const base64 = btoa(String.fromCharCode.apply(null, chunk));\n",
              "      yield {\n",
              "        response: {\n",
              "          action: 'append',\n",
              "          file: file.name,\n",
              "          data: base64,\n",
              "        },\n",
              "      };\n",
              "\n",
              "      let percentDone = fileData.byteLength === 0 ?\n",
              "          100 :\n",
              "          Math.round((position / fileData.byteLength) * 100);\n",
              "      percent.textContent = `${percentDone}% done`;\n",
              "\n",
              "    } while (position < fileData.byteLength);\n",
              "  }\n",
              "\n",
              "  // All done.\n",
              "  yield {\n",
              "    response: {\n",
              "      action: 'complete',\n",
              "    }\n",
              "  };\n",
              "}\n",
              "\n",
              "scope.google = scope.google || {};\n",
              "scope.google.colab = scope.google.colab || {};\n",
              "scope.google.colab._files = {\n",
              "  _uploadFiles,\n",
              "  _uploadFilesContinue,\n",
              "};\n",
              "})(self);\n",
              "</script> "
            ]
          },
          "metadata": {}
        },
        {
          "output_type": "stream",
          "name": "stdout",
          "text": [
            "Saving AICTE.jpeg to AICTE.jpeg\n"
          ]
        }
      ]
    },
    {
      "cell_type": "code",
      "source": [
        "import base64\n",
        "output_image = \"stego_image.png\"\n",
        "embed_data(image_filename, \"Hello, Secure Steganography!\", \"securekey123\", output_image)\n",
        "files.download(output_image)\n"
      ],
      "metadata": {
        "colab": {
          "base_uri": "https://localhost:8080/",
          "height": 34
        },
        "id": "7tn_MKfXFgis",
        "outputId": "51fb3b46-f7df-4391-d764-2d87619b3e56"
      },
      "execution_count": null,
      "outputs": [
        {
          "output_type": "stream",
          "name": "stdout",
          "text": [
            "Data embedded successfully! Saved as stego_image.png\n"
          ]
        },
        {
          "output_type": "display_data",
          "data": {
            "text/plain": [
              "<IPython.core.display.Javascript object>"
            ],
            "application/javascript": [
              "\n",
              "    async function download(id, filename, size) {\n",
              "      if (!google.colab.kernel.accessAllowed) {\n",
              "        return;\n",
              "      }\n",
              "      const div = document.createElement('div');\n",
              "      const label = document.createElement('label');\n",
              "      label.textContent = `Downloading \"${filename}\": `;\n",
              "      div.appendChild(label);\n",
              "      const progress = document.createElement('progress');\n",
              "      progress.max = size;\n",
              "      div.appendChild(progress);\n",
              "      document.body.appendChild(div);\n",
              "\n",
              "      const buffers = [];\n",
              "      let downloaded = 0;\n",
              "\n",
              "      const channel = await google.colab.kernel.comms.open(id);\n",
              "      // Send a message to notify the kernel that we're ready.\n",
              "      channel.send({})\n",
              "\n",
              "      for await (const message of channel.messages) {\n",
              "        // Send a message to notify the kernel that we're ready.\n",
              "        channel.send({})\n",
              "        if (message.buffers) {\n",
              "          for (const buffer of message.buffers) {\n",
              "            buffers.push(buffer);\n",
              "            downloaded += buffer.byteLength;\n",
              "            progress.value = downloaded;\n",
              "          }\n",
              "        }\n",
              "      }\n",
              "      const blob = new Blob(buffers, {type: 'application/binary'});\n",
              "      const a = document.createElement('a');\n",
              "      a.href = window.URL.createObjectURL(blob);\n",
              "      a.download = filename;\n",
              "      div.appendChild(a);\n",
              "      a.click();\n",
              "      div.remove();\n",
              "    }\n",
              "  "
            ]
          },
          "metadata": {}
        },
        {
          "output_type": "display_data",
          "data": {
            "text/plain": [
              "<IPython.core.display.Javascript object>"
            ],
            "application/javascript": [
              "download(\"download_7c328258-a44b-4436-84ee-fd6307f88bd5\", \"stego_image.png\", 116491)"
            ]
          },
          "metadata": {}
        }
      ]
    },
    {
      "cell_type": "code",
      "source": [
        "hidden_message = extract_data(\"stego_image.png\", \"securekey123\")\n",
        "print(\"Hidden Message:\", hidden_message)\n",
        "\n"
      ],
      "metadata": {
        "colab": {
          "base_uri": "https://localhost:8080/"
        },
        "id": "p9FnH3pTFgmQ",
        "outputId": "c86cb1dd-ba81-4d0f-a41b-69b217e7a4ab"
      },
      "execution_count": null,
      "outputs": [
        {
          "output_type": "stream",
          "name": "stdout",
          "text": [
            "Hidden Message: Hello, Secure Steganography!\n"
          ]
        }
      ]
    },
    {
      "cell_type": "code",
      "source": [],
      "metadata": {
        "id": "p-oA8MklIMpm"
      },
      "execution_count": null,
      "outputs": []
    }
  ]
}